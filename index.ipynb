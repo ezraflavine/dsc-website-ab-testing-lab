{
 "cells": [
  {
   "cell_type": "markdown",
   "metadata": {},
   "source": [
    "# Website A/B Testing - Lab\n",
    "\n",
    "## Introduction\n",
    "\n",
    "In this lab, you'll get another chance to practice your skills at conducting a full A/B test analysis. It will also be a chance to practice your data exploration and processing skills! The scenario you'll be investigating is data collected from the homepage of a music app page for audacity.\n",
    "\n",
    "## Objectives\n",
    "\n",
    "You will be able to:\n",
    "* Analyze the data from a website A/B test to draw relevant conclusions\n",
    "* Explore and analyze web action data"
   ]
  },
  {
   "cell_type": "markdown",
   "metadata": {},
   "source": [
    "## Exploratory Analysis\n",
    "\n",
    "Start by loading in the dataset stored in the file 'homepage_actions.csv'. Then conduct an exploratory analysis to get familiar with the data."
   ]
  },
  {
   "cell_type": "markdown",
   "metadata": {},
   "source": [
    "> Hints:\n",
    "    * Start investigating the id column:\n",
    "        * How many viewers also clicked?\n",
    "        * Are there any anomalies with the data; did anyone click who didn't view?\n",
    "        * Is there any overlap between the control and experiment groups? \n",
    "            * If so, how do you plan to account for this in your experimental design?"
   ]
  },
  {
   "cell_type": "code",
   "execution_count": 1,
   "metadata": {},
   "outputs": [],
   "source": [
    "import pandas as pd\n",
    "import numpy as np\n",
    "import scipy.stats as stats"
   ]
  },
  {
   "cell_type": "code",
   "execution_count": 2,
   "metadata": {},
   "outputs": [],
   "source": [
    "data = pd.read_csv('homepage_actions.csv')"
   ]
  },
  {
   "cell_type": "code",
   "execution_count": 3,
   "metadata": {},
   "outputs": [
    {
     "data": {
      "text/html": [
       "<div>\n",
       "<style scoped>\n",
       "    .dataframe tbody tr th:only-of-type {\n",
       "        vertical-align: middle;\n",
       "    }\n",
       "\n",
       "    .dataframe tbody tr th {\n",
       "        vertical-align: top;\n",
       "    }\n",
       "\n",
       "    .dataframe thead th {\n",
       "        text-align: right;\n",
       "    }\n",
       "</style>\n",
       "<table border=\"1\" class=\"dataframe\">\n",
       "  <thead>\n",
       "    <tr style=\"text-align: right;\">\n",
       "      <th></th>\n",
       "      <th>timestamp</th>\n",
       "      <th>id</th>\n",
       "      <th>group</th>\n",
       "      <th>action</th>\n",
       "    </tr>\n",
       "  </thead>\n",
       "  <tbody>\n",
       "    <tr>\n",
       "      <th>0</th>\n",
       "      <td>2016-09-24 17:42:27.839496</td>\n",
       "      <td>804196</td>\n",
       "      <td>experiment</td>\n",
       "      <td>view</td>\n",
       "    </tr>\n",
       "    <tr>\n",
       "      <th>1</th>\n",
       "      <td>2016-09-24 19:19:03.542569</td>\n",
       "      <td>434745</td>\n",
       "      <td>experiment</td>\n",
       "      <td>view</td>\n",
       "    </tr>\n",
       "    <tr>\n",
       "      <th>2</th>\n",
       "      <td>2016-09-24 19:36:00.944135</td>\n",
       "      <td>507599</td>\n",
       "      <td>experiment</td>\n",
       "      <td>view</td>\n",
       "    </tr>\n",
       "    <tr>\n",
       "      <th>3</th>\n",
       "      <td>2016-09-24 19:59:02.646620</td>\n",
       "      <td>671993</td>\n",
       "      <td>control</td>\n",
       "      <td>view</td>\n",
       "    </tr>\n",
       "    <tr>\n",
       "      <th>4</th>\n",
       "      <td>2016-09-24 20:26:14.466886</td>\n",
       "      <td>536734</td>\n",
       "      <td>experiment</td>\n",
       "      <td>view</td>\n",
       "    </tr>\n",
       "  </tbody>\n",
       "</table>\n",
       "</div>"
      ],
      "text/plain": [
       "                    timestamp      id       group action\n",
       "0  2016-09-24 17:42:27.839496  804196  experiment   view\n",
       "1  2016-09-24 19:19:03.542569  434745  experiment   view\n",
       "2  2016-09-24 19:36:00.944135  507599  experiment   view\n",
       "3  2016-09-24 19:59:02.646620  671993     control   view\n",
       "4  2016-09-24 20:26:14.466886  536734  experiment   view"
      ]
     },
     "execution_count": 3,
     "metadata": {},
     "output_type": "execute_result"
    }
   ],
   "source": [
    "data.head()"
   ]
  },
  {
   "cell_type": "code",
   "execution_count": 4,
   "metadata": {},
   "outputs": [
    {
     "data": {
      "text/html": [
       "<div>\n",
       "<style scoped>\n",
       "    .dataframe tbody tr th:only-of-type {\n",
       "        vertical-align: middle;\n",
       "    }\n",
       "\n",
       "    .dataframe tbody tr th {\n",
       "        vertical-align: top;\n",
       "    }\n",
       "\n",
       "    .dataframe thead th {\n",
       "        text-align: right;\n",
       "    }\n",
       "</style>\n",
       "<table border=\"1\" class=\"dataframe\">\n",
       "  <thead>\n",
       "    <tr style=\"text-align: right;\">\n",
       "      <th></th>\n",
       "      <th>timestamp</th>\n",
       "      <th>id</th>\n",
       "      <th>group</th>\n",
       "      <th>action</th>\n",
       "    </tr>\n",
       "  </thead>\n",
       "  <tbody>\n",
       "    <tr>\n",
       "      <th>7397</th>\n",
       "      <td>2017-01-07 14:06:57.430190</td>\n",
       "      <td>828946</td>\n",
       "      <td>control</td>\n",
       "      <td>view</td>\n",
       "    </tr>\n",
       "    <tr>\n",
       "      <th>4474</th>\n",
       "      <td>2016-11-27 23:08:50.540538</td>\n",
       "      <td>793192</td>\n",
       "      <td>control</td>\n",
       "      <td>view</td>\n",
       "    </tr>\n",
       "    <tr>\n",
       "      <th>870</th>\n",
       "      <td>2016-10-06 22:19:11.671858</td>\n",
       "      <td>628217</td>\n",
       "      <td>control</td>\n",
       "      <td>view</td>\n",
       "    </tr>\n",
       "    <tr>\n",
       "      <th>2986</th>\n",
       "      <td>2016-11-06 17:42:12.615837</td>\n",
       "      <td>494646</td>\n",
       "      <td>control</td>\n",
       "      <td>view</td>\n",
       "    </tr>\n",
       "    <tr>\n",
       "      <th>7762</th>\n",
       "      <td>2017-01-12 13:18:04.825059</td>\n",
       "      <td>895066</td>\n",
       "      <td>experiment</td>\n",
       "      <td>view</td>\n",
       "    </tr>\n",
       "    <tr>\n",
       "      <th>6704</th>\n",
       "      <td>2016-12-29 10:09:59.299492</td>\n",
       "      <td>579535</td>\n",
       "      <td>control</td>\n",
       "      <td>view</td>\n",
       "    </tr>\n",
       "    <tr>\n",
       "      <th>1316</th>\n",
       "      <td>2016-10-13 05:19:31.561369</td>\n",
       "      <td>929844</td>\n",
       "      <td>control</td>\n",
       "      <td>view</td>\n",
       "    </tr>\n",
       "    <tr>\n",
       "      <th>3579</th>\n",
       "      <td>2016-11-15 10:20:31.188069</td>\n",
       "      <td>495048</td>\n",
       "      <td>control</td>\n",
       "      <td>view</td>\n",
       "    </tr>\n",
       "    <tr>\n",
       "      <th>3589</th>\n",
       "      <td>2016-11-15 12:38:32.549734</td>\n",
       "      <td>779434</td>\n",
       "      <td>control</td>\n",
       "      <td>click</td>\n",
       "    </tr>\n",
       "    <tr>\n",
       "      <th>628</th>\n",
       "      <td>2016-10-03 09:23:54.676360</td>\n",
       "      <td>253531</td>\n",
       "      <td>control</td>\n",
       "      <td>view</td>\n",
       "    </tr>\n",
       "    <tr>\n",
       "      <th>1207</th>\n",
       "      <td>2016-10-11 14:29:19.084668</td>\n",
       "      <td>700428</td>\n",
       "      <td>experiment</td>\n",
       "      <td>view</td>\n",
       "    </tr>\n",
       "    <tr>\n",
       "      <th>4972</th>\n",
       "      <td>2016-12-05 07:35:54.922603</td>\n",
       "      <td>211730</td>\n",
       "      <td>control</td>\n",
       "      <td>view</td>\n",
       "    </tr>\n",
       "    <tr>\n",
       "      <th>2800</th>\n",
       "      <td>2016-11-03 21:44:38.027736</td>\n",
       "      <td>801828</td>\n",
       "      <td>experiment</td>\n",
       "      <td>view</td>\n",
       "    </tr>\n",
       "    <tr>\n",
       "      <th>2673</th>\n",
       "      <td>2016-11-01 22:44:10.240797</td>\n",
       "      <td>639553</td>\n",
       "      <td>control</td>\n",
       "      <td>view</td>\n",
       "    </tr>\n",
       "    <tr>\n",
       "      <th>4311</th>\n",
       "      <td>2016-11-25 06:51:16.714953</td>\n",
       "      <td>526151</td>\n",
       "      <td>experiment</td>\n",
       "      <td>view</td>\n",
       "    </tr>\n",
       "  </tbody>\n",
       "</table>\n",
       "</div>"
      ],
      "text/plain": [
       "                       timestamp      id       group action\n",
       "7397  2017-01-07 14:06:57.430190  828946     control   view\n",
       "4474  2016-11-27 23:08:50.540538  793192     control   view\n",
       "870   2016-10-06 22:19:11.671858  628217     control   view\n",
       "2986  2016-11-06 17:42:12.615837  494646     control   view\n",
       "7762  2017-01-12 13:18:04.825059  895066  experiment   view\n",
       "6704  2016-12-29 10:09:59.299492  579535     control   view\n",
       "1316  2016-10-13 05:19:31.561369  929844     control   view\n",
       "3579  2016-11-15 10:20:31.188069  495048     control   view\n",
       "3589  2016-11-15 12:38:32.549734  779434     control  click\n",
       "628   2016-10-03 09:23:54.676360  253531     control   view\n",
       "1207  2016-10-11 14:29:19.084668  700428  experiment   view\n",
       "4972  2016-12-05 07:35:54.922603  211730     control   view\n",
       "2800  2016-11-03 21:44:38.027736  801828  experiment   view\n",
       "2673  2016-11-01 22:44:10.240797  639553     control   view\n",
       "4311  2016-11-25 06:51:16.714953  526151  experiment   view"
      ]
     },
     "execution_count": 4,
     "metadata": {},
     "output_type": "execute_result"
    }
   ],
   "source": [
    "data.sample(15)"
   ]
  },
  {
   "cell_type": "code",
   "execution_count": 5,
   "metadata": {},
   "outputs": [
    {
     "data": {
      "text/plain": [
       "(8188, 4)"
      ]
     },
     "execution_count": 5,
     "metadata": {},
     "output_type": "execute_result"
    }
   ],
   "source": [
    "data.shape"
   ]
  },
  {
   "cell_type": "code",
   "execution_count": 6,
   "metadata": {},
   "outputs": [
    {
     "name": "stdout",
     "output_type": "stream",
     "text": [
      "<class 'pandas.core.frame.DataFrame'>\n",
      "RangeIndex: 8188 entries, 0 to 8187\n",
      "Data columns (total 4 columns):\n",
      " #   Column     Non-Null Count  Dtype \n",
      "---  ------     --------------  ----- \n",
      " 0   timestamp  8188 non-null   object\n",
      " 1   id         8188 non-null   int64 \n",
      " 2   group      8188 non-null   object\n",
      " 3   action     8188 non-null   object\n",
      "dtypes: int64(1), object(3)\n",
      "memory usage: 256.0+ KB\n"
     ]
    }
   ],
   "source": [
    "data.info()"
   ]
  },
  {
   "cell_type": "code",
   "execution_count": 7,
   "metadata": {},
   "outputs": [],
   "source": [
    "#convert timestamp to datetime data type\n",
    "data['timestamp'] = pd.to_datetime(data['timestamp'])"
   ]
  },
  {
   "cell_type": "code",
   "execution_count": 8,
   "metadata": {},
   "outputs": [
    {
     "name": "stdout",
     "output_type": "stream",
     "text": [
      "Missing Values:\n",
      "timestamp    0\n",
      "id           0\n",
      "group        0\n",
      "action       0\n",
      "dtype: int64\n"
     ]
    }
   ],
   "source": [
    "#check for missing values\n",
    "missing_values = data.isnull().sum()\n",
    "print(\"Missing Values:\")\n",
    "print(missing_values)"
   ]
  },
  {
   "cell_type": "code",
   "execution_count": 9,
   "metadata": {},
   "outputs": [
    {
     "name": "stdout",
     "output_type": "stream",
     "text": [
      "3332\n"
     ]
    }
   ],
   "source": [
    "# Number of views in the control group\n",
    "control_views = len(data[(data['group'] == 'control') & (data['action'] == 'view')])\n",
    "\n",
    "print(control_views)"
   ]
  },
  {
   "cell_type": "code",
   "execution_count": 10,
   "metadata": {},
   "outputs": [
    {
     "name": "stdout",
     "output_type": "stream",
     "text": [
      "2996\n"
     ]
    }
   ],
   "source": [
    "# Number of views in the experiment group\n",
    "experiment_views = len(data[(data['group'] == 'experiment') & (data['action'] == 'view')])\n",
    "\n",
    "print(experiment_views)"
   ]
  },
  {
   "cell_type": "code",
   "execution_count": 11,
   "metadata": {},
   "outputs": [
    {
     "name": "stdout",
     "output_type": "stream",
     "text": [
      "1860\n"
     ]
    }
   ],
   "source": [
    "# Number of website clicks\n",
    "clicks = len(data[data['action'] == 'click'])\n",
    "\n",
    "print(clicks)"
   ]
  },
  {
   "cell_type": "code",
   "execution_count": 12,
   "metadata": {},
   "outputs": [
    {
     "name": "stdout",
     "output_type": "stream",
     "text": [
      "Number of viewers: 6328\n",
      "Number of click events: 1860\n",
      "Number of viewers who also clicked: 1860\n"
     ]
    }
   ],
   "source": [
    "#Investigate the 'id' column to answer the provided questions\n",
    "#How many viewers also clicked?\n",
    "\n",
    "# Count viewers and click events\n",
    "viewers_count = (data['action'] == 'view').sum()\n",
    "click_count = (data['action'] == 'click').sum()\n",
    "\n",
    "# Calculate the number of viewers who also clicked\n",
    "viewers_clicked = data[data['action'] == 'click']['id'].nunique()\n",
    "print(f\"Number of viewers: {viewers_count}\")\n",
    "print(f\"Number of click events: {click_count}\")\n",
    "print(f\"Number of viewers who also clicked: {viewers_clicked}\")"
   ]
  },
  {
   "cell_type": "code",
   "execution_count": 13,
   "metadata": {},
   "outputs": [
    {
     "name": "stdout",
     "output_type": "stream",
     "text": [
      "Number of users who clicked without viewing: 0\n"
     ]
    }
   ],
   "source": [
    "#Are there any anomalies with the data; did anyone click who didn't view?\n",
    "# Find IDs of users who clicked without viewing\n",
    "# Create Boolean masks for 'click' and 'view' actions\n",
    "click_mask = data['action'] == 'click'\n",
    "view_mask = data['action'] == 'view'\n",
    "\n",
    "# Get unique IDs for users who clicked without viewing\n",
    "clicked_without_view = data[click_mask & ~data['id'].isin(data[view_mask]['id'])]['id'].unique()\n",
    "\n",
    "# Count the number of users who clicked without viewing\n",
    "num_clicked_without_view = len(clicked_without_view)\n",
    "\n",
    "print(f\"Number of users who clicked without viewing: {num_clicked_without_view}\")"
   ]
  },
  {
   "cell_type": "code",
   "execution_count": 14,
   "metadata": {},
   "outputs": [
    {
     "name": "stdout",
     "output_type": "stream",
     "text": [
      "Number of overlapping IDs between control and experiment groups: 0\n"
     ]
    }
   ],
   "source": [
    "#Is there any overlap between the control and experiment groups?\n",
    "# Check for overlap between control and experiment groups\n",
    "control_group_ids = data[data['group'] == 'control']['id']\n",
    "experiment_group_ids = data[data['group'] == 'experiment']['id']\n",
    "overlap = control_group_ids.isin(experiment_group_ids).sum()\n",
    "print(f\"Number of overlapping IDs between control and experiment groups: {overlap}\")"
   ]
  },
  {
   "cell_type": "markdown",
   "metadata": {},
   "source": [
    "## Conduct a Statistical Test\n",
    "\n",
    "Conduct a statistical test to determine whether the experimental homepage was more effective than that of the control group."
   ]
  },
  {
   "cell_type": "code",
   "execution_count": 15,
   "metadata": {},
   "outputs": [
    {
     "data": {
      "text/plain": [
       "1.6448536269514722"
      ]
     },
     "execution_count": 15,
     "metadata": {},
     "output_type": "execute_result"
    }
   ],
   "source": [
    "#The null and alternative hypotheses\n",
    "H_O = \"The experimental homepage and control homepage have the same conversion rate \"\n",
    "H_1 = \"The experimental homepage is more effective than the control homepage\"\n",
    "\n",
    "# Calculate conversion rates\n",
    "experimental_clicks = len(data[(data['group'] == 'experiment') & (data['action'] == 'click')])\n",
    "control_clicks = len(data[(data['group'] == 'control') & (data['action'] == 'click')])\n",
    "\n",
    "experimental_views = len(data[(data['group'] == 'experiment') & (data['action'] == 'view')])\n",
    "control_views = len(data[(data['group'] == 'control') & (data['action'] == 'view')])\n",
    "\n",
    "p1 = experimental_clicks / experimental_views\n",
    "p2 = control_clicks / control_views\n",
    "\n",
    "# Calculate standard error\n",
    "SE = np.sqrt((p1 * (1 - p1) / experimental_views) + (p2 * (1 - p2) / control_views))\n",
    "\n",
    "# Calculate the z-score\n",
    "z = (p1 - p2) / SE\n",
    "\n",
    "# Set the significance level\n",
    "alpha = 0.05\n",
    "\n",
    "# Calculate the critical z-value\n",
    "critical_z = stats.norm.ppf(1 - alpha)\n",
    "critical_z"
   ]
  },
  {
   "cell_type": "code",
   "execution_count": 16,
   "metadata": {},
   "outputs": [
    {
     "name": "stdout",
     "output_type": "stream",
     "text": [
      "Reject the null hypothesis. The experimental homepage is more effective.\n"
     ]
    }
   ],
   "source": [
    "# Compare z-score with critical z-value\n",
    "if z > critical_z:\n",
    "    print(\"Reject the null hypothesis. The experimental homepage is more effective.\")\n",
    "else:\n",
    "    print(\"Fail to reject the null hypothesis. There is no significant difference in effectiveness.\")"
   ]
  },
  {
   "cell_type": "markdown",
   "metadata": {},
   "source": [
    "## Verifying Results\n",
    "\n",
    "One sensible formulation of the data to answer the hypothesis test above would be to create a binary variable representing each individual in the experiment and control group. This binary variable would represent whether or not that individual clicked on the homepage; 1 for they did and 0 if they did not. \n",
    "\n",
    "The variance for the number of successes in a sample of a binomial variable with n observations is given by:\n",
    "\n",
    "## $n\\bullet p (1-p)$\n",
    "\n",
    "Given this, perform 3 steps to verify the results of your statistical test:\n",
    "1. Calculate the expected number of clicks for the experiment group, if it had the same click-through rate as that of the control group. \n",
    "2. Calculate the number of standard deviations that the actual number of clicks was from this estimate. \n",
    "3. Finally, calculate a p-value using the normal distribution based on this z-score."
   ]
  },
  {
   "cell_type": "markdown",
   "metadata": {},
   "source": [
    "### Step 1:\n",
    "Calculate the expected number of clicks for the experiment group, if it had the same click-through rate as that of the control group. "
   ]
  },
  {
   "cell_type": "code",
   "execution_count": 17,
   "metadata": {},
   "outputs": [
    {
     "name": "stdout",
     "output_type": "stream",
     "text": [
      "838.0168067226891\n"
     ]
    }
   ],
   "source": [
    "#calculate the click rates\n",
    "control_group = data[data['group'] == 'control']\n",
    "experiment_group = data[data['group'] == 'experiment']\n",
    "\n",
    "# Calculate the click-through rate (CTR) for the control group\n",
    "control_ctr = len(control_group[control_group['action'] == 'click']) / len(control_group[control_group['action'] == 'view'])\n",
    "\n",
    "# Estimate the expected number of clicks for the experiment group using the control CTR\n",
    "expected_clicks_experiment = control_ctr * len(experiment_group[experiment_group['action'] == 'view'])\n",
    "\n",
    "print(expected_clicks_experiment)"
   ]
  },
  {
   "cell_type": "markdown",
   "metadata": {},
   "source": [
    "### Step 2:\n",
    "Calculate the number of standard deviations that the actual number of clicks was from this estimate."
   ]
  },
  {
   "cell_type": "code",
   "execution_count": 18,
   "metadata": {},
   "outputs": [
    {
     "name": "stdout",
     "output_type": "stream",
     "text": [
      "3.1083866623746554\n"
     ]
    }
   ],
   "source": [
    "# Calculate the actual number of clicks in the experiment group\n",
    "actual_clicks_experiment = len(experiment_group[experiment_group['action'] == 'click'])\n",
    "\n",
    "# Calculate the z-score\n",
    "z_score = (actual_clicks_experiment - expected_clicks_experiment) / np.sqrt(expected_clicks_experiment)\n",
    "\n",
    "print(z_score)"
   ]
  },
  {
   "cell_type": "markdown",
   "metadata": {},
   "source": [
    "### Step 3: \n",
    "Finally, calculate a p-value using the normal distribution based on this z-score."
   ]
  },
  {
   "cell_type": "code",
   "execution_count": 19,
   "metadata": {},
   "outputs": [
    {
     "name": "stdout",
     "output_type": "stream",
     "text": [
      "0.0009405589049594765\n"
     ]
    }
   ],
   "source": [
    "# Calculate the p-value using the normal distribution\n",
    "p_value = 1 - stats.norm.cdf(z_score)\n",
    "\n",
    "print(p_value)"
   ]
  },
  {
   "cell_type": "code",
   "execution_count": 20,
   "metadata": {},
   "outputs": [
    {
     "name": "stdout",
     "output_type": "stream",
     "text": [
      "The first set of results has a higher z-score and a lower p-value compared to the second set of results. \n",
      "This suggests that the first set of results provides stronger evidence against the null hypothesis and indicates a more significant difference between the experiment and control groups in terms of click-through rates.\n",
      "In both cases, the results suggest that there is a statistically significant difference between the experiment and control groups.\n",
      "\n"
     ]
    }
   ],
   "source": [
    "print(\"\"\"The first set of results has a higher z-score and a lower p-value compared to the second set of results. \n",
    "This suggests that the first set of results provides stronger evidence against the null hypothesis and indicates a more significant difference between the experiment and control groups in terms of click-through rates.\n",
    "In both cases, the results suggest that there is a statistically significant difference between the experiment and control groups.\n",
    "\"\"\")"
   ]
  },
  {
   "cell_type": "markdown",
   "metadata": {},
   "source": [
    "### Analysis:\n",
    "\n",
    "Does this result roughly match that of the previous statistical test?\n",
    "\n",
    "> Comment: **Your analysis here**"
   ]
  },
  {
   "cell_type": "markdown",
   "metadata": {},
   "source": [
    "## Summary\n",
    "\n",
    "In this lab, you continued to get more practice designing and conducting AB tests. This required additional work preprocessing and formulating the initial problem in a suitable manner. Additionally, you also saw how to verify results, strengthening your knowledge of binomial variables, and reviewing initial statistical concepts of the central limit theorem, standard deviation, z-scores, and their accompanying p-values."
   ]
  }
 ],
 "metadata": {
  "kernelspec": {
   "display_name": "Python 3",
   "language": "python",
   "name": "python3"
  },
  "language_info": {
   "codemirror_mode": {
    "name": "ipython",
    "version": 3
   },
   "file_extension": ".py",
   "mimetype": "text/x-python",
   "name": "python",
   "nbconvert_exporter": "python",
   "pygments_lexer": "ipython3",
   "version": "3.8.5"
  }
 },
 "nbformat": 4,
 "nbformat_minor": 2
}
